{
 "cells": [
  {
   "cell_type": "code",
   "execution_count": 2,
   "metadata": {},
   "outputs": [],
   "source": [
    "import pandas as pd\n",
    "import numpy as np\n",
    "import seaborn as sns\n",
    "import warnings\n",
    "warnings.simplefilter(\"ignore\")\n",
    "import matplotlib.pyplot as plt\n",
    "from textblob import TextBlob"
   ]
  },
  {
   "cell_type": "code",
   "execution_count": 3,
   "metadata": {},
   "outputs": [
    {
     "data": {
      "text/html": [
       "<div>\n",
       "<style scoped>\n",
       "    .dataframe tbody tr th:only-of-type {\n",
       "        vertical-align: middle;\n",
       "    }\n",
       "\n",
       "    .dataframe tbody tr th {\n",
       "        vertical-align: top;\n",
       "    }\n",
       "\n",
       "    .dataframe thead th {\n",
       "        text-align: right;\n",
       "    }\n",
       "</style>\n",
       "<table border=\"1\" class=\"dataframe\">\n",
       "  <thead>\n",
       "    <tr style=\"text-align: right;\">\n",
       "      <th></th>\n",
       "      <th>user</th>\n",
       "      <th>text</th>\n",
       "    </tr>\n",
       "  </thead>\n",
       "  <tbody>\n",
       "    <tr>\n",
       "      <th>0</th>\n",
       "      <td>manny_rosen</td>\n",
       "      <td>@sanofi please tell us how many shares the Cr...</td>\n",
       "    </tr>\n",
       "    <tr>\n",
       "      <th>1</th>\n",
       "      <td>osi_abdul</td>\n",
       "      <td>https://t.co/atM98CpqF7  Like, comment, RT #P...</td>\n",
       "    </tr>\n",
       "    <tr>\n",
       "      <th>2</th>\n",
       "      <td>Patsyrw</td>\n",
       "      <td>Your AG Barr is as useless &amp;amp; corrupt as y...</td>\n",
       "    </tr>\n",
       "    <tr>\n",
       "      <th>3</th>\n",
       "      <td>seyedebrahimi_m</td>\n",
       "      <td>Mr. Trump! Wake Up!  Most of the comments bel...</td>\n",
       "    </tr>\n",
       "    <tr>\n",
       "      <th>4</th>\n",
       "      <td>James09254677</td>\n",
       "      <td>After 4 years you think you would have figure...</td>\n",
       "    </tr>\n",
       "  </tbody>\n",
       "</table>\n",
       "</div>"
      ],
      "text/plain": [
       "              user                                               text\n",
       "0      manny_rosen   @sanofi please tell us how many shares the Cr...\n",
       "1        osi_abdul   https://t.co/atM98CpqF7  Like, comment, RT #P...\n",
       "2          Patsyrw   Your AG Barr is as useless &amp; corrupt as y...\n",
       "3  seyedebrahimi_m   Mr. Trump! Wake Up!  Most of the comments bel...\n",
       "4    James09254677   After 4 years you think you would have figure..."
      ]
     },
     "execution_count": 3,
     "metadata": {},
     "output_type": "execute_result"
    }
   ],
   "source": [
    "trump = pd.read_csv(\"dataset/Trumpall2.csv\")\n",
    "trump.head()"
   ]
  },
  {
   "cell_type": "code",
   "execution_count": 4,
   "metadata": {},
   "outputs": [
    {
     "data": {
      "text/html": [
       "<div>\n",
       "<style scoped>\n",
       "    .dataframe tbody tr th:only-of-type {\n",
       "        vertical-align: middle;\n",
       "    }\n",
       "\n",
       "    .dataframe tbody tr th {\n",
       "        vertical-align: top;\n",
       "    }\n",
       "\n",
       "    .dataframe thead th {\n",
       "        text-align: right;\n",
       "    }\n",
       "</style>\n",
       "<table border=\"1\" class=\"dataframe\">\n",
       "  <thead>\n",
       "    <tr style=\"text-align: right;\">\n",
       "      <th></th>\n",
       "      <th>user</th>\n",
       "      <th>text</th>\n",
       "    </tr>\n",
       "  </thead>\n",
       "  <tbody>\n",
       "    <tr>\n",
       "      <th>0</th>\n",
       "      <td>MarkHodder3</td>\n",
       "      <td>@JoeBiden And we’ll find out who won in 2026...</td>\n",
       "    </tr>\n",
       "    <tr>\n",
       "      <th>1</th>\n",
       "      <td>K87327961G</td>\n",
       "      <td>@JoeBiden Your Democratic Nazi Party cannot be...</td>\n",
       "    </tr>\n",
       "    <tr>\n",
       "      <th>2</th>\n",
       "      <td>OldlaceA</td>\n",
       "      <td>@JoeBiden So did Lying Barr</td>\n",
       "    </tr>\n",
       "    <tr>\n",
       "      <th>3</th>\n",
       "      <td>penblogger</td>\n",
       "      <td>@JoeBiden It's clear you didnt compose this tw...</td>\n",
       "    </tr>\n",
       "    <tr>\n",
       "      <th>4</th>\n",
       "      <td>Aquarian0264</td>\n",
       "      <td>@JoeBiden I will vote in person thank you.</td>\n",
       "    </tr>\n",
       "  </tbody>\n",
       "</table>\n",
       "</div>"
      ],
      "text/plain": [
       "           user                                               text\n",
       "0   MarkHodder3    @JoeBiden And we’ll find out who won in 2026...\n",
       "1    K87327961G  @JoeBiden Your Democratic Nazi Party cannot be...\n",
       "2      OldlaceA                        @JoeBiden So did Lying Barr\n",
       "3    penblogger  @JoeBiden It's clear you didnt compose this tw...\n",
       "4  Aquarian0264         @JoeBiden I will vote in person thank you."
      ]
     },
     "execution_count": 4,
     "metadata": {},
     "output_type": "execute_result"
    }
   ],
   "source": [
    "biden= pd.read_csv(\"dataset/Bidenall2.csv\")\n",
    "biden.head()"
   ]
  },
  {
   "cell_type": "code",
   "execution_count": 5,
   "metadata": {},
   "outputs": [
    {
     "name": "stdout",
     "output_type": "stream",
     "text": [
      "Donald Trump : Sentiment(polarity=0.15, subjectivity=0.3125)\n"
     ]
    }
   ],
   "source": [
    "tb1 = TextBlob(trump[\"text\"][10])\n",
    "print(\"Donald Trump :\",tb1.sentiment)"
   ]
  },
  {
   "cell_type": "code",
   "execution_count": 6,
   "metadata": {},
   "outputs": [
    {
     "name": "stdout",
     "output_type": "stream",
     "text": [
      "Joe Biden : Sentiment(polarity=0.6, subjectivity=0.9)\n"
     ]
    }
   ],
   "source": [
    "tb2 = TextBlob(biden[\"text\"][500])\n",
    "print(\"Joe Biden :\",tb2.sentiment)"
   ]
  },
  {
   "cell_type": "code",
   "execution_count": 7,
   "metadata": {},
   "outputs": [],
   "source": [
    "def findPoll(review):\n",
    "    return TextBlob(review).sentiment.polarity"
   ]
  },
  {
   "cell_type": "code",
   "execution_count": 8,
   "metadata": {},
   "outputs": [
    {
     "name": "stdout",
     "output_type": "stream",
     "text": [
      "              user                                               text  \\\n",
      "0      manny_rosen   @sanofi please tell us how many shares the Cr...   \n",
      "1        osi_abdul   https://t.co/atM98CpqF7  Like, comment, RT #P...   \n",
      "2          Patsyrw   Your AG Barr is as useless &amp; corrupt as y...   \n",
      "3  seyedebrahimi_m   Mr. Trump! Wake Up!  Most of the comments bel...   \n",
      "4    James09254677   After 4 years you think you would have figure...   \n",
      "\n",
      "   Sentiment Polarity  \n",
      "0                0.05  \n",
      "1                0.00  \n",
      "2               -0.50  \n",
      "3                0.50  \n",
      "4                0.00  \n"
     ]
    }
   ],
   "source": [
    "trump[\"Sentiment Polarity\"] = trump[\"text\"].apply(findPoll)\n",
    "print(trump.head())"
   ]
  },
  {
   "cell_type": "code",
   "execution_count": 9,
   "metadata": {},
   "outputs": [
    {
     "name": "stdout",
     "output_type": "stream",
     "text": [
      "           user                                               text  \\\n",
      "0   MarkHodder3    @JoeBiden And we’ll find out who won in 2026...   \n",
      "1    K87327961G  @JoeBiden Your Democratic Nazi Party cannot be...   \n",
      "2      OldlaceA                        @JoeBiden So did Lying Barr   \n",
      "3    penblogger  @JoeBiden It's clear you didnt compose this tw...   \n",
      "4  Aquarian0264         @JoeBiden I will vote in person thank you.   \n",
      "\n",
      "   Sentiment Polarity  \n",
      "0                0.00  \n",
      "1                0.00  \n",
      "2                0.00  \n",
      "3                0.05  \n",
      "4                0.00  \n"
     ]
    }
   ],
   "source": [
    "biden[\"Sentiment Polarity\"] = biden[\"text\"].apply(findPoll)\n",
    "print(biden.head())"
   ]
  },
  {
   "cell_type": "code",
   "execution_count": 10,
   "metadata": {},
   "outputs": [
    {
     "name": "stdout",
     "output_type": "stream",
     "text": [
      "              user                                               text  \\\n",
      "0      manny_rosen   @sanofi please tell us how many shares the Cr...   \n",
      "1        osi_abdul   https://t.co/atM98CpqF7  Like, comment, RT #P...   \n",
      "2          Patsyrw   Your AG Barr is as useless &amp; corrupt as y...   \n",
      "3  seyedebrahimi_m   Mr. Trump! Wake Up!  Most of the comments bel...   \n",
      "4    James09254677   After 4 years you think you would have figure...   \n",
      "\n",
      "   Sentiment Polarity Opinion Label  \n",
      "0                0.05      positive  \n",
      "1                0.00       Neutral  \n",
      "2               -0.50      negative  \n",
      "3                0.50      positive  \n",
      "4                0.00       Neutral  \n"
     ]
    }
   ],
   "source": [
    "trump[\"Opinion Label\"] = np.where(trump[\"Sentiment Polarity\"]>0, \"positive\", \"negative\")\n",
    "trump[\"Opinion Label\"][trump[\"Sentiment Polarity\"]==0]=\"Neutral\"\n",
    "print(trump.head())"
   ]
  },
  {
   "cell_type": "code",
   "execution_count": 11,
   "metadata": {},
   "outputs": [
    {
     "name": "stdout",
     "output_type": "stream",
     "text": [
      "           user                                               text  \\\n",
      "0   MarkHodder3    @JoeBiden And we’ll find out who won in 2026...   \n",
      "1    K87327961G  @JoeBiden Your Democratic Nazi Party cannot be...   \n",
      "2      OldlaceA                        @JoeBiden So did Lying Barr   \n",
      "3    penblogger  @JoeBiden It's clear you didnt compose this tw...   \n",
      "4  Aquarian0264         @JoeBiden I will vote in person thank you.   \n",
      "\n",
      "   Sentiment Polarity Opinion Label  \n",
      "0                0.00      negative  \n",
      "1                0.00       Neutral  \n",
      "2                0.00      negative  \n",
      "3                0.05      positive  \n",
      "4                0.00       Neutral  \n"
     ]
    }
   ],
   "source": [
    "biden[\"Opinion Label\"] = np.where(biden[\"Sentiment Polarity\"]>0, \"positive\", \"negative\")\n",
    "biden[\"Opinion Label\"][trump[\"Sentiment Polarity\"]==0]=\"Neutral\"\n",
    "print(biden.head())"
   ]
  },
  {
   "cell_type": "code",
   "execution_count": 12,
   "metadata": {},
   "outputs": [
    {
     "name": "stdout",
     "output_type": "stream",
     "text": [
      "(1324, 4)\n"
     ]
    }
   ],
   "source": [
    "reviews1 = trump[trump['Sentiment Polarity'] == 0.0000]\n",
    "cond1=trump['Sentiment Polarity'].isin(reviews1['Sentiment Polarity'])\n",
    "trump.drop(trump[cond1].index, inplace = True)\n",
    "print(trump.shape)"
   ]
  },
  {
   "cell_type": "code",
   "execution_count": 13,
   "metadata": {},
   "outputs": [
    {
     "name": "stdout",
     "output_type": "stream",
     "text": [
      "(1031, 4)\n"
     ]
    }
   ],
   "source": [
    "reviews2 = biden[biden['Sentiment Polarity'] == 0.0000]\n",
    "cond2=biden['Sentiment Polarity'].isin(reviews1['Sentiment Polarity'])\n",
    "biden.drop(biden[cond2].index, inplace = True)\n",
    "print(biden.shape)"
   ]
  },
  {
   "cell_type": "code",
   "execution_count": 14,
   "metadata": {},
   "outputs": [
    {
     "name": "stdout",
     "output_type": "stream",
     "text": [
      "Shape of trump Subset : (1000, 4)\n",
      "Shape of Biden Subset : (1000, 4)\n"
     ]
    }
   ],
   "source": [
    "np.random.seed(10)\n",
    "remove=324\n",
    "dropIndices = np.random.choice(trump.index, remove, replace=False)\n",
    "df_trump = trump.drop(dropIndices)\n",
    "print(\"Shape of trump Subset :\",df_trump.shape)\n",
    "np.random.seed(10)\n",
    "remove =31\n",
    "dropIndices = np.random.choice(biden.index, remove, replace=False)\n",
    "df_biden = biden.drop(dropIndices)\n",
    "print(\"Shape of Biden Subset :\",df_biden.shape)"
   ]
  },
  {
   "cell_type": "code",
   "execution_count": 15,
   "metadata": {},
   "outputs": [],
   "source": [
    "count_Trump = df_trump.groupby('Opinion Label').count()\n",
    "negative_percentage1 = (count_Trump['Sentiment Polarity'][0]/1000)*10\n",
    "positive_percentage1 = (count_Trump['Sentiment Polarity'][1]/1000)*100"
   ]
  },
  {
   "cell_type": "code",
   "execution_count": 16,
   "metadata": {},
   "outputs": [],
   "source": [
    "count_Biden = df_biden.groupby('Opinion Label').count()\n",
    "negative_percentage2 = (count_Biden['Sentiment Polarity'][0]/1000)*10\n",
    "positive_percentage2 = (count_Biden['Sentiment Polarity'][1]/1000)*100"
   ]
  },
  {
   "cell_type": "code",
   "execution_count": 17,
   "metadata": {},
   "outputs": [],
   "source": [
    "Politicians = ['Joe Biden', 'Donald Trump']\n",
    "lis_pos = [positive_percentage1, positive_percentage2]\n",
    "lis_neg = [negative_percentage1, negative_percentage2]"
   ]
  },
  {
   "cell_type": "code",
   "execution_count": 18,
   "metadata": {},
   "outputs": [
    {
     "data": {
      "image/png": "[encoded data removed]",
      "text/plain": [
       "<Figure size 432x288 with 1 Axes>"
      ]
     },
     "metadata": {
      "needs_background": "light"
     },
     "output_type": "display_data"
    }
   ],
   "source": [
    "plt.bar(x=Politicians,height=lis_pos,label=\"Positive\")\n",
    "plt.bar(x=Politicians,height=lis_neg,label=\"Negative\")\n",
    "plt.legend()\n",
    "plt.title(\"US ELECTION Trump vs Biden\")\n",
    "plt.show()"
   ]
  }
 ],
 "metadata": {
  "kernelspec": {
   "display_name": "Python 3",
   "language": "python",
   "name": "python3"
  },
  "language_info": {
   "codemirror_mode": {
    "name": "ipython",
    "version": 3
   },
   "file_extension": ".py",
   "mimetype": "text/x-python",
   "name": "python",
   "nbconvert_exporter": "python",
   "pygments_lexer": "ipython3",
   "version": "3.8.5"
  }
 },
 "nbformat": 4,
 "nbformat_minor": 4
}
